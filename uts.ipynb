{
 "cells": [
  {
   "cell_type": "markdown",
   "metadata": {},
   "source": [
    "# Abaikan"
   ]
  },
  {
   "cell_type": "code",
   "execution_count": 1,
   "metadata": {},
   "outputs": [],
   "source": [
    "from functools import wraps\n",
    "from time import time\n",
    "\n",
    "def measure(func):\n",
    "    @wraps(func)\n",
    "    def _time_it(*args, **kwargs):\n",
    "        start = int(round(time() * 1000))\n",
    "        try: return func(*args, **kwargs)\n",
    "        finally:\n",
    "            end_ = int(round(time() * 1000)) - start\n",
    "            minutes, seconds = divmod(end_ / 1000, 60)\n",
    "            print(f\"Total execution time: {int(minutes)} min {int(seconds)} sec\")\n",
    "    return _time_it"
   ]
  },
  {
   "cell_type": "markdown",
   "metadata": {},
   "source": [
    "# Kisi - Kisi (Pak Yozef)"
   ]
  },
  {
   "cell_type": "markdown",
   "metadata": {},
   "source": [
    "## 1. Invers Multiplikatif"
   ]
  },
  {
   "cell_type": "markdown",
   "metadata": {},
   "source": [
    "### Diberikan a dan n. Hitunglah invers multiplikatif dari a dalam modulo n, jika eksis."
   ]
  },
  {
   "cell_type": "code",
   "execution_count": 2,
   "metadata": {},
   "outputs": [],
   "source": [
    "from math import nan,gcd\n",
    "\n",
    "def find_mult_inverse(k, n):\n",
    "  if gcd(k,n) != 1: return -1\n",
    "\n",
    "  a = [nan, k]\n",
    "  b = [nan, n]\n",
    "  q = [nan, k//n]\n",
    "  r = [nan, k%n]\n",
    "  s = [1, 0]\n",
    "  t = [0, 1]\n",
    "\n",
    "  i = 1\n",
    "  while (r[i]!=0):\n",
    "    i+=1\n",
    "    a.append(b[i-1])\n",
    "    b.append(r[i-1])\n",
    "    q.append(a[i] // b[i])\n",
    "    r.append(a[i] % b[i])\n",
    "    s_formula = s[i-2] - s[i-1]*q[i-1]\n",
    "    s.append(s_formula)\n",
    "    t_formula = t[i-2] - t[i-1]*q[i-1]\n",
    "    t.append(t_formula)\n",
    "    \n",
    "  return s[i]%n"
   ]
  },
  {
   "cell_type": "markdown",
   "metadata": {},
   "source": [
    "### Find Mult Inverse Test Cases"
   ]
  },
  {
   "cell_type": "code",
   "execution_count": 3,
   "metadata": {},
   "outputs": [],
   "source": [
    "k_list = [5,10,21,3,7,-8,15,11,-14,-20,30,-35,40,-50,60,-70,-80,90,-100]\n",
    "n_list = [7,6,35,2,11,4,10,17,12,25,8,14,24,35,55,75,95,115,200]\n",
    "should_return_mult_inverse_list = [3,-1,-1,1,8,-1,-1,14,-1,-1,-1,-1,-1,-1,-1,-1,-1,-1,-1]\n",
    "\n",
    "for k,n,check in zip(k_list,n_list,should_return_mult_inverse_list):\n",
    "    mult_inverse = find_mult_inverse(k,n)\n",
    "    assert mult_inverse == check"
   ]
  },
  {
   "cell_type": "markdown",
   "metadata": {},
   "source": [
    "### Tugas Komputasi Nomor 1"
   ]
  },
  {
   "cell_type": "code",
   "execution_count": 4,
   "metadata": {},
   "outputs": [
    {
     "name": "stdout",
     "output_type": "stream",
     "text": [
      "148059137\n",
      "Total execution time: 0 min 4 sec\n"
     ]
    }
   ],
   "source": [
    "P = 1000000007\n",
    "Q1_SHOULD_RETURN = 148059137\n",
    "\n",
    "@measure\n",
    "def solve_1(P):\n",
    "  total = 0\n",
    "\n",
    "  for k in range(345678, 987654+1):\n",
    "    inv = find_mult_inverse(k, P)\n",
    "    total += inv\n",
    "\n",
    "  print(total % P)\n",
    "  assert total % P == Q1_SHOULD_RETURN\n",
    "\n",
    "solve_1(P)"
   ]
  },
  {
   "cell_type": "markdown",
   "metadata": {},
   "source": [
    "## 2. Aritmatika GF (2^8)"
   ]
  },
  {
   "cell_type": "markdown",
   "metadata": {},
   "source": [
    "### Implementasikan trik perkalian pada GF(2^8)"
   ]
  },
  {
   "cell_type": "code",
   "execution_count": 5,
   "metadata": {},
   "outputs": [],
   "source": [
    "def GF_addition(a, b):\n",
    "    a_int = int(a,2)\n",
    "    b_int = int(b,2)\n",
    "    output = a_int ^ b_int\n",
    "    return bin(output)[2:].zfill(8)\n",
    "\n",
    "def GF_multiply_by_x(P):\n",
    "    mod = \"00011011\"\n",
    "    mod_integer_rep = int(mod,2)\n",
    "    T = P[1:]+'0'\n",
    "    T_integer_rep = int(T,2)\n",
    "    return T if P[0] == '0' else (bin(T_integer_rep^mod_integer_rep)[2:].zfill(8))\n",
    "\n",
    "def GF_multiply_by_x_k(P, k):\n",
    "    if k == 0: return P\n",
    "    return GF_multiply_by_x_k(GF_multiply_by_x(P),k-1)\n",
    "\n",
    "def GF_multiply(P, Q):\n",
    "    T = []\n",
    "    for i in range(8):\n",
    "        if Q[i] == '1': T.append(GF_multiply_by_x_k(P,7-i))\n",
    "    output = \"\"\n",
    "    result = int(T[0], 2)\n",
    "    for i in T[1:]: result ^= int(i, 2)\n",
    "    output = bin(result)[2:].zfill(8)\n",
    "    return (output)\n",
    "\n",
    "def convert_hexa_to_binary(hexa): return bin(int(hexa, 16))[2:].zfill(8)\n",
    "\n",
    "def convert_binary_to_hexa(bin): return (hex(int(bin, 2))[2:]).upper()"
   ]
  },
  {
   "cell_type": "markdown",
   "metadata": {},
   "source": [
    "### GF 2^8 Multiplication Test"
   ]
  },
  {
   "cell_type": "code",
   "execution_count": 6,
   "metadata": {},
   "outputs": [],
   "source": [
    "binary_list_1 = ['11000011', '10110101', '10110001', '10001110', '00011000', '11001101', '01110011', '00011011', '00101001', '10101101', '11001100', '10100010', '01100101', '00001101', '01111101', '10010000', '11101001', '10010110', '10111010', '11100010', '00100101', '01110000', '11010101', '00010011', '11101001', '01001010', '00001100', '00011101', '10100110', '00010011', '10010110', '11000110', '10000010', '01011100', '00110101', '11111101', '01111101', '11001001', '11001010', '00101001', '01101000', '10100111', '11100110', '10100000', '10111011', '10110100', '01000111', '00011001', '00001000', '01010100', '00011110', '01100001', '10110101', '11001010', '11001101', '00110111', '01010000', '01010111', '11101100', '01000111', '00000001', '01001101', '00100100', '01111101', '00010001', '11010000', '10110110', '00000101', '11001001', '10001111', '01011111', '10010010', '00100011', '00100000', '11001011', '00001100', '00011111', '01010011', '01000111', '11111010', '00100011', '00010110', '00000110', '00010111', '00000011', '11111110', '11000100', '00100000', '01000010', '11000101', '01100001', '10100000', '11101110', '11111111', '01111101', '11101111', '11000100', '00111001', '10110010', '00011111']\n",
    "\n",
    "binary_list_2 = binary_list_1[::-1]\n",
    "\n",
    "assert binary_list_1 != binary_list_2\n",
    "\n",
    "multiply_should_return = ['10111001', '11011010', '01111010', '00110101', '01001011', '11000001', '00011110', '01111010', '00010000', '00101001', '10010111', '01001010', '00010100', '10000011', '11101110', '10101011', '10111011', '01011001', '11100100', '01100010', '01001101', '01010100', '01001010', '11001010', '10000000', '10011111', '10011011', '10101010', '11000101', '01100110', '01111100', '00101011', '10111100', '11011110', '01010111', '10110100', '10001101', '01000001', '10010101', '00101001', '01000110', '00010000', '11000011', '01111011', '11000011', '10111000', '00010000', '11001111', '00100101', '01000010', '01000010', '00100101', '11001111', '00010000', '10111000', '11000011', '01111011', '11000011', '00010000', '01000110', '00101001', '10010101', '01000001', '10001101', '10110100', '01010111', '11011110', '10111100', '00101011', '01111100', '01100110', '11000101', '10101010', '10011011', '10011111', '10000000', '11001010', '01001010', '01010100', '01001101', '01100010', '11100100', '01011001', '10111011', '10101011', '11101110', '10000011', '00010100', '01001010', '10010111', '00101001', '00010000', '01111010', '00011110', '11000001', '01001011', '00110101', '01111010', '11011010', '10111001']\n",
    "\n",
    "for bin1,bin2,bin_ in zip(binary_list_1,binary_list_2,multiply_should_return):\n",
    "    gf_mult = GF_multiply(bin1,bin2)\n",
    "    assert gf_mult == bin_"
   ]
  },
  {
   "cell_type": "markdown",
   "metadata": {},
   "source": [
    "### Tugas Komputasi Nomor 3"
   ]
  },
  {
   "cell_type": "code",
   "execution_count": 7,
   "metadata": {},
   "outputs": [
    {
     "name": "stdout",
     "output_type": "stream",
     "text": [
      "DC\n",
      "Total execution time: 0 min 0 sec\n"
     ]
    }
   ],
   "source": [
    "def GF_multiply_p_k_times(p,k):\n",
    "    result = p\n",
    "    for _ in range(k-1): result = GF_multiply(p,result)\n",
    "    return result\n",
    "\n",
    "@measure\n",
    "def solve_3():\n",
    "    a = convert_hexa_to_binary(\"0F\")\n",
    "    b = convert_hexa_to_binary(\"BE\")\n",
    "    c = convert_hexa_to_binary(\"DA\")\n",
    "\n",
    "    zero_f_200 = GF_multiply_p_k_times(a,200)\n",
    "    be_100 = GF_multiply_p_k_times(b,100)\n",
    "    da_50 = GF_multiply_p_k_times(c,50)\n",
    "\n",
    "    poly_kiri = GF_multiply(zero_f_200,be_100)\n",
    "    poly_kanan = GF_multiply(zero_f_200,da_50)\n",
    "\n",
    "    res = GF_addition(poly_kiri,poly_kanan)\n",
    "    hexa_output = convert_binary_to_hexa(res)\n",
    "    print(hexa_output)\n",
    "\n",
    "solve_3()"
   ]
  },
  {
   "cell_type": "markdown",
   "metadata": {},
   "source": [
    "### Menghitung Invers Multiplikatif dari GF (2^8)"
   ]
  },
  {
   "cell_type": "code",
   "execution_count": 8,
   "metadata": {},
   "outputs": [],
   "source": [
    "def discrete_log(a, b, n):\n",
    "    # a^k == b (mod n)\n",
    "    k = 1\n",
    "    for i in range(n):\n",
    "        k = (k * a) % n\n",
    "        if k == b: return i + 1\n",
    "    \n",
    "    # Inverse doesn't exist\n",
    "    return 0"
   ]
  },
  {
   "cell_type": "markdown",
   "metadata": {},
   "source": [
    "### Tugas Komputasi Nomor 2"
   ]
  },
  {
   "cell_type": "code",
   "execution_count": 9,
   "metadata": {},
   "outputs": [
    {
     "name": "stdout",
     "output_type": "stream",
     "text": [
      "8101199\n",
      "32486\n",
      "Total execution time: 0 min 10 sec\n"
     ]
    }
   ],
   "source": [
    "@measure\n",
    "def solve_2():\n",
    "    n_range = range(4567,8765+1)\n",
    "    a_range = range(2,10+1)\n",
    "    b = 103\n",
    "\n",
    "    not_found_inverse = 0\n",
    "    sum_inverse = 0\n",
    "\n",
    "    for n in n_range:\n",
    "        for a in a_range:\n",
    "            inverse_mult = discrete_log(a,b,n)\n",
    "            if inverse_mult != 0: sum_inverse+=discrete_log(a,b,n)\n",
    "            else: not_found_inverse+=1\n",
    "    print(sum_inverse)\n",
    "    print(not_found_inverse) \n",
    "\n",
    "solve_2()"
   ]
  },
  {
   "cell_type": "markdown",
   "id": "qm5xBAuErMWg",
   "metadata": {
    "id": "qm5xBAuErMWg"
   },
   "source": [
    "## 4. Tranposition Block"
   ]
  },
  {
   "cell_type": "markdown",
   "id": "xCVxxxz1BvMU",
   "metadata": {
    "id": "xCVxxxz1BvMU"
   },
   "source": [
    "### Diberikan suatu permutasi sebagai aturan transposition Block. Temukan invers dari permutasi tersebut dan lakukan proses dekripsi."
   ]
  },
  {
   "cell_type": "code",
   "execution_count": 10,
   "id": "pvZbo-ncNk2e",
   "metadata": {
    "colab": {
     "base_uri": "https://localhost:8080/"
    },
    "id": "pvZbo-ncNk2e",
    "outputId": "acab4f79-4fd2-465a-d89f-5a5cf38ab4c7"
   },
   "outputs": [
    {
     "name": "stdout",
     "output_type": "stream",
     "text": [
      "01100110 ciphertext ipynb\n",
      "11000 ciphertext onenote test case 1\n",
      "10110 ciphertext onenote test case 2\n",
      "01010101 plaintext ipynb\n",
      "01001 plaintext onenote test case 1\n",
      "11010 plaintext onenote test case 2\n"
     ]
    }
   ],
   "source": [
    "# n-bit transposition block\n",
    "\n",
    "# permutasi didefinisikan sebagai pemetaan i --> key[i]\n",
    "\n",
    "# ini yang dari template ipynb bapaknya\n",
    "n = 8\n",
    "key = [3, 5, 7, 1, 0, 2, 4, 6]\n",
    "assert sorted(key) == list(range(n))\n",
    "assert len(key) == n\n",
    "\n",
    "# ini yang dari onenote Kriptografi Simetris 1.3 \n",
    "n2 = 5\n",
    "key2 = [3,0,4,2,1]\n",
    "assert len(key2) == n2\n",
    "assert sorted(key2) == list(range(n2))\n",
    "\n",
    "def encrypt_transposition(n, m, k):\n",
    "  # n berupa bilangan bulat positif\n",
    "  # key k berupa tabel indeks berukuran n yang berisikan {0, 1, ... , n-1}\n",
    "  # text m berupa n-bit string\n",
    "  \n",
    "  # write your code here\n",
    "  encrypt_bits = [\"\"]*n\n",
    "  for i,j in enumerate(k): encrypt_bits[j] = m[i]\n",
    "  return \"\".join(encrypt_bits)\n",
    "\n",
    "# test case dari template ipynb bapaknya\n",
    "plaintextbit = \"01010101\"\n",
    "ciphertext = encrypt_transposition(n, plaintextbit, key)\n",
    "assert ciphertext == \"01100110\"\n",
    "print(ciphertext,'ciphertext ipynb') # this should output 01100110\n",
    "\n",
    "# test case 1 dari onenote Kriptografi Simetris 1.3 \n",
    "plaintextbit_onenote = \"01001\"\n",
    "ciphertext_onenote = encrypt_transposition(n2, plaintextbit_onenote, key2)\n",
    "assert ciphertext_onenote == \"11000\"\n",
    "print(ciphertext_onenote,'ciphertext onenote test case 1') # this should output 11000\n",
    "\n",
    "# test case 2 dari onenote Kriptografi Simetris 1.3 \n",
    "plaintextbit_onenote_2 = \"11010\"\n",
    "ciphertext_onenote_2 = encrypt_transposition(n2, plaintextbit_onenote_2, key2)\n",
    "assert ciphertext_onenote_2 == \"10110\"\n",
    "print(ciphertext_onenote_2,'ciphertext onenote test case 2')  # this should output 10110\n",
    "\n",
    "def decrypt_transposition(n, c, k):\n",
    "  # n berupa bilangan bulat positif\n",
    "  # key k berupa tabel indeks berukuran n yang berisikan {0, 1, ... , n-1}\n",
    "  # ciphertext c berupa n-bit string\n",
    "  \n",
    "  # write your code here\n",
    "  decrypt_bits = [\"\"]*n\n",
    "  for i,j in enumerate(k): decrypt_bits[i] = c[j]\n",
    "  return \"\".join(decrypt_bits)\n",
    "\n",
    "# test case dari template ipynb bapaknya\n",
    "ori_message = decrypt_transposition(n, ciphertext, key)\n",
    "print(ori_message,'plaintext ipynb') # this should output 01010101\n",
    "assert ori_message == \"01010101\"\n",
    "\n",
    "# test case 1 dari onenote Kriptografi Simetris 1.3 \n",
    "ori_message_1 = decrypt_transposition(n2, ciphertext_onenote, key2)\n",
    "print(ori_message_1,'plaintext onenote test case 1') # this should output 01001\n",
    "assert ori_message_1 == \"01001\" \n",
    "\n",
    "# test case 2 dari onenote Kriptografi Simetris 1.3 \n",
    "ori_message_2 = decrypt_transposition(n2, ciphertext_onenote_2, key2)\n",
    "print(ori_message_2,'plaintext onenote test case 2') # this should output 11010\n",
    "assert ori_message_2 == \"11010\" "
   ]
  },
  {
   "cell_type": "markdown",
   "id": "E8txJUiXUq9O",
   "metadata": {
    "id": "E8txJUiXUq9O"
   },
   "source": [
    "## 5. Substitution Block"
   ]
  },
  {
   "cell_type": "markdown",
   "metadata": {},
   "source": [
    "### Diberikan suatu contoh plaintext dan ciphertext. Temukan kunci dari aturan substitution block, dan lakukan proses enkripsi."
   ]
  },
  {
   "cell_type": "code",
   "execution_count": 11,
   "id": "-oh4zXSmUvH4",
   "metadata": {
    "colab": {
     "base_uri": "https://localhost:8080/"
    },
    "id": "-oh4zXSmUvH4",
    "outputId": "193ac67f-9c1f-40bc-bc90-1769721d45a6"
   },
   "outputs": [
    {
     "name": "stdout",
     "output_type": "stream",
     "text": [
      "{'111': '101', '001': '001', '100': '011', '101': '100', '010': '010', '000': '111', '110': '110', '011': '000'}\n",
      "{'01': '10', '00': '11', '11': '01'}\n",
      "{'11': '01', '01': '10', '10': '00'}\n",
      "110001010010001100011011011101001000101100\n",
      "101101\n",
      "011000\n"
     ]
    }
   ],
   "source": [
    "# meretas n-bit substitution block\n",
    "\n",
    "# test case dari ipynb bapaknya\n",
    "n = 3 # 1 blok substitusi berukuran n\n",
    "plaintext_breach = \"111001100101010000110011\"\n",
    "ciphertext_breach = \"101001011100010111110000\"\n",
    "\n",
    "# test case 1 dari onenote bapaknya\n",
    "n2 = 2\n",
    "plaintext_breach_2 = \"010011\"\n",
    "ciphertext_breach_2 = \"101101\"\n",
    "\n",
    "plaintext_breach_3 = \"110110\"\n",
    "ciphertext_breach_3 = \"011000\"\n",
    "\n",
    "def obtain_key_substitution_block(n, m, c):\n",
    "  # return a dictionary defining the substitution rules\n",
    "  # m is the plaintext\n",
    "  # c is the ciphertext\n",
    "  \n",
    "  # write your code here\n",
    "  d = {}\n",
    "  for i in range(0,len(m),n): d[m[i:i+n]] = c[i:i+n]\n",
    "  return d\n",
    "\n",
    "# key berupa dictionary yang menerjemahkan n-bit menjadi n-bit\n",
    "\n",
    "# this should output {'111': '101', '001': '001', '100': '011', '101': '100', '010': '010', '000': '111', '110': '110', '011': '000'}\n",
    "key = obtain_key_substitution_block(n, plaintext_breach, ciphertext_breach)\n",
    "print(key)\n",
    "\n",
    "# this should output {'01': '10', '00': '11', '11': '01'}\n",
    "key2 = obtain_key_substitution_block(n2, plaintext_breach_2, ciphertext_breach_2)\n",
    "print(key2)\n",
    "\n",
    "# this should output {'11': '01', '01': '10', '10': '00'}\n",
    "key3 = obtain_key_substitution_block(n2, plaintext_breach_3, ciphertext_breach_3)\n",
    "print(key3)\n",
    "\n",
    "assert key == {'111': '101', '001': '001', '100': '011', '101': '100', '010': '010', '000': '111', '110': '110', '011': '000'}\n",
    "\n",
    "assert key2 == {'01': '10', '00': '11', '11': '01'}\n",
    "\n",
    "assert key3 == {'11': '01', '01': '10', '10': '00'}\n",
    "\n",
    "def encrypt_substitution(n, m, key):\n",
    "  # m is the plaintext\n",
    "\n",
    "  # write your code here\n",
    "  ciphertext = \"\"\n",
    "  for i in range(0,len(m),n): ciphertext+=key[m[i:i+n]]\n",
    "  return ciphertext\n",
    "\n",
    "# test case dari ipynb bapaknya\n",
    "plaintext = \"110001010010001101100100100111001011111101\"\n",
    "ciphertext = encrypt_substitution(n, plaintext, key)\n",
    "print(ciphertext) # this should output 110001010010001100011011011101001000101100\n",
    "assert ciphertext == \"110001010010001100011011011101001000101100\"\n",
    "\n",
    "# test case 1 dari onenote bapaknya\n",
    "plaintext_2 = \"010011\"\n",
    "ciphertext_2 = encrypt_substitution(n2, plaintext_2, key2)\n",
    "print(ciphertext_2) # this should output 101101\n",
    "assert ciphertext_2 == \"101101\"\n",
    "\n",
    "# test case 2 dari onenote bapaknya\n",
    "plaintext_3 = \"110110\"\n",
    "ciphertext_3 = encrypt_substitution(n2, plaintext_3, key3)\n",
    "print(ciphertext_3) # this should output 011000\n",
    "assert ciphertext_3 == \"011000\""
   ]
  },
  {
   "cell_type": "markdown",
   "id": "hyV3LX0qB6e0",
   "metadata": {
    "id": "hyV3LX0qB6e0"
   },
   "source": [
    "## 6. XOR-Whitener"
   ]
  },
  {
   "cell_type": "markdown",
   "metadata": {},
   "source": [
    "### Diberikan suatu block key-whitener, implementasikan proses enkripsi."
   ]
  },
  {
   "cell_type": "code",
   "execution_count": 12,
   "id": "nIsKOPS_B917",
   "metadata": {
    "colab": {
     "base_uri": "https://localhost:8080/"
    },
    "id": "nIsKOPS_B917",
    "outputId": "0b00ea9c-44e1-458e-8314-0aa409b4104e"
   },
   "outputs": [
    {
     "name": "stdout",
     "output_type": "stream",
     "text": [
      "01111100001111011011110001000011\n",
      "['00011010', '00001000', '00001001'] AAAAA\n",
      "\t asdjasd\n",
      "\t asoidjaiosjd\n"
     ]
    }
   ],
   "source": [
    "# n-bit key whitening\n",
    "\n",
    "n = 8\n",
    "# key berupa n-bit string\n",
    "key = \"10101001\"\n",
    "\n",
    "def encrypt_key_whitener(n, m, k):\n",
    "  # m is the plain text\n",
    "  # k is the key\n",
    "\n",
    "  # write your code here\n",
    "  ciphertextbit = \"\"\n",
    "  key_integer = int(k,2)\n",
    "  for i in range(0,len(m),n):\n",
    "    bit = m[i:i+n]\n",
    "    bit_integer = int(bit,2)\n",
    "    xor = bit_integer^key_integer\n",
    "    xor_binary = bin(xor)[2:].zfill(8)\n",
    "    ciphertextbit+=xor_binary\n",
    "  return ciphertextbit\n",
    "\n",
    "# test case dari ipynb bapaknya\n",
    "plaintextbit = \"11010101100101000001010111101010\"\n",
    "ciphertextbit = encrypt_key_whitener(n, plaintextbit, key)\n",
    "print(ciphertextbit) # this should output \"01111100001111011011110001000011\"\n",
    "assert ciphertextbit == \"01111100001111011011110001000011\"\n",
    "\n",
    "# test case dari onenote bapaknya\n",
    "def letter_to_binary(letter): return bin(ord(letter))[2:].zfill(8)\n",
    "def binary_to_letter(binary): return chr(int(binary,2))\n",
    "\n",
    "def convert_word_to_binary(word):\n",
    "  binary = \"\"\n",
    "  for letter in word: binary+=letter_to_binary(letter)\n",
    "  return binary\n",
    "\n",
    "ciphertext_string = \"WMA\"\n",
    "key_string = \"MEH\"\n",
    "ciphertext_binary = convert_word_to_binary(ciphertext_string)\n",
    "key_binary = convert_word_to_binary(key_string)\n",
    "\n",
    "assert \"010101110100110101000001\" == ciphertext_binary \n",
    "assert \"010011010100010101001000\" == key_binary\n",
    "\n",
    "def decrypt_key_whitener_onenote(n, m, k):\n",
    "  # m is the plain text\n",
    "  # k is the key\n",
    "\n",
    "  # write your code here\n",
    "  decryptbit_list = []\n",
    "  for i in range(0,len(m),n):\n",
    "    bit = m[i:i+n]\n",
    "    key = k[i:i+n]\n",
    "    key_integer = int(key,2)\n",
    "    bit_integer = int(bit,2)\n",
    "    xor = bit_integer^key_integer\n",
    "    xor_binary = bin(xor)[2:].zfill(8)\n",
    "    decryptbit_list.append(xor_binary)\n",
    "  \n",
    "  decrypt_message = \"\"\n",
    "  print(decryptbit_list,'AAAAA')\n",
    "  for binary in decryptbit_list: decrypt_message+=binary_to_letter(binary)\n",
    "  print(decrypt_message,'asdjasd')\n",
    "\n",
    "  return decrypt_message\n",
    "\n",
    "plaintext_output = decrypt_key_whitener_onenote(n,ciphertext_binary,key_binary)\n",
    "print(plaintext_output,\"asoidjaiosjd\")\n",
    "# assert \"000110100000100000001001\" == plaintext_output"
   ]
  },
  {
   "cell_type": "markdown",
   "metadata": {},
   "source": [
    "## 7. DES: Implementasi Round S-Box"
   ]
  },
  {
   "cell_type": "markdown",
   "metadata": {},
   "source": [
    "### Diberikan tabel S-box, implementasikan proses S-box untuk suatu blok 6-bit"
   ]
  },
  {
   "cell_type": "markdown",
   "metadata": {},
   "source": [
    "![image.png](data:image/png;base64,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)"
   ]
  },
  {
   "cell_type": "code",
   "execution_count": 13,
   "metadata": {},
   "outputs": [
    {
     "name": "stdout",
     "output_type": "stream",
     "text": [
      "(1, 4)\n",
      "(3, 6)\n"
     ]
    }
   ],
   "source": [
    "def get_row_column_from_round_s_box(binary:str):\n",
    "    row = binary[0]+binary[-1]\n",
    "    col = binary[1:-1]\n",
    "    return int(row,2),int(col,2)\n",
    "\n",
    "inputs = [\"001001\",\"101101\"]\n",
    "should_return = [(1,4),(3,6)]\n",
    "for binary,check in zip(inputs,should_return): \n",
    "    output = get_row_column_from_round_s_box(binary)\n",
    "    print(output)\n",
    "    assert output == check"
   ]
  },
  {
   "cell_type": "markdown",
   "metadata": {},
   "source": [
    "## 8. DES: Implementation KeyGeneration - Shift Left"
   ]
  },
  {
   "cell_type": "markdown",
   "metadata": {},
   "source": [
    "### Diberikan hasil proses keygeneration dari suatu round, implementasikan proses shift left key untuk round berikutnya."
   ]
  },
  {
   "cell_type": "code",
   "execution_count": 14,
   "metadata": {},
   "outputs": [
    {
     "name": "stdout",
     "output_type": "stream",
     "text": [
      "01100101\n"
     ]
    }
   ],
   "source": [
    "def shift_left_key_generation(binary,shift): return binary[shift:]+binary[:shift]\n",
    "input_ = \"01011001\"\n",
    "shift = 2\n",
    "output = shift_left_key_generation(input_,shift)\n",
    "print(output)\n",
    "assert \"01100101\" == output"
   ]
  },
  {
   "cell_type": "markdown",
   "metadata": {},
   "source": [
    "## 11. AES: Round Implementasi Mix Column"
   ]
  },
  {
   "cell_type": "markdown",
   "metadata": {},
   "source": [
    "### Diberikan suatu state, implementasikan hasil Mix Column "
   ]
  },
  {
   "cell_type": "code",
   "execution_count": 15,
   "metadata": {},
   "outputs": [
    {
     "name": "stdout",
     "output_type": "stream",
     "text": [
      "[['62', '02', '27', '26'], ['CF', '92', '91', '0D'], ['0C', '0C', 'F4', 'D6'], ['99', '18', '30', '74']]\n"
     ]
    }
   ],
   "source": [
    "def convert_hexa_matrix_to_binary(matrix):\n",
    "    output_matrix = []\n",
    "    for row in matrix:\n",
    "        temp = []\n",
    "        for col in row:\n",
    "            temp.append(convert_hexa_to_binary(col))\n",
    "        output_matrix.append(temp)\n",
    "    return output_matrix\n",
    "\n",
    "def convert_integer_matrix_to_hexa(matrix):\n",
    "    output_matrix = []\n",
    "    for row in matrix:\n",
    "        temp = []\n",
    "        for col in row:\n",
    "            temp.append(hex(col)[2:].zfill(2).upper())\n",
    "        output_matrix.append(temp)\n",
    "    return output_matrix\n",
    "\n",
    "def mix_column(state ,C):\n",
    "    result = [[0]*len(state[0]) for _ in range(len(C))]\n",
    "    state = convert_hexa_matrix_to_binary(state)\n",
    "    C = convert_hexa_matrix_to_binary(C)\n",
    "\n",
    "    for i in range(len(C)):\n",
    "        for j in range(len(state[0])):\n",
    "            for k in range(len(state)):\n",
    "                result[i][j] ^= int(GF_multiply(C[i][k],state[k][j]),2)\n",
    "\n",
    "    return convert_integer_matrix_to_hexa(result)\n",
    "\n",
    "state = [\n",
    "    [\"63\",\"C9\",\"FE\",\"30\"],\n",
    "    [\"F2\",\"63\",\"26\",\"F2\"],\n",
    "    [\"7D\",\"D4\",\"C9\",\"C9\"],\n",
    "    [\"D4\",\"FA\",\"63\",\"82\"]\n",
    "]\n",
    "\n",
    "C = [\n",
    "    [\"02\",\"03\",\"01\",\"01\"],\n",
    "    [\"01\",\"02\",\"03\",\"01\"],\n",
    "    [\"01\",\"01\",\"02\",\"03\"],\n",
    "    [\"03\",\"01\",\"01\",\"02\"],\n",
    "]\n",
    "\n",
    "mix_column_output = mix_column(state,C)\n",
    "print(mix_column_output)"
   ]
  },
  {
   "cell_type": "markdown",
   "metadata": {},
   "source": [
    "## 12. AES: Key Expansion - Implementasi"
   ]
  },
  {
   "cell_type": "markdown",
   "metadata": {},
   "source": [
    "### Diberikan round key untuk suatu round, tentukan round key untuk round berikutnya"
   ]
  },
  {
   "cell_type": "markdown",
   "metadata": {},
   "source": [
    "![Alt text](../../../../../../../C:/Users/chris/Kuliah/semester6/KK/uts/key_expansion.png)"
   ]
  },
  {
   "cell_type": "markdown",
   "metadata": {},
   "source": [
    "semoga bagian ini sama aes sbox nya"
   ]
  },
  {
   "cell_type": "code",
   "execution_count": 28,
   "metadata": {},
   "outputs": [],
   "source": [
    "aes_sbox = [\n",
    "    [int('63', 16), int('7c', 16), int('77', 16), int('7b', 16), int('f2', 16), int('6b', 16), int('6f', 16), int('c5', 16), int(\n",
    "        '30', 16), int('01', 16), int('67', 16), int('2b', 16), int('fe', 16), int('d7', 16), int('ab', 16), int('76', 16)],\n",
    "    [int('ca', 16), int('82', 16), int('c9', 16), int('7d', 16), int('fa', 16), int('59', 16), int('47', 16), int('f0', 16), int(\n",
    "        'ad', 16), int('d4', 16), int('a2', 16), int('af', 16), int('9c', 16), int('a4', 16), int('72', 16), int('c0', 16)],\n",
    "    [int('b7', 16), int('fd', 16), int('93', 16), int('26', 16), int('36', 16), int('3f', 16), int('f7', 16), int('cc', 16), int(\n",
    "        '34', 16), int('a5', 16), int('e5', 16), int('f1', 16), int('71', 16), int('d8', 16), int('31', 16), int('15', 16)],\n",
    "    [int('04', 16), int('c7', 16), int('23', 16), int('c3', 16), int('18', 16), int('96', 16), int('05', 16), int('9a', 16), int(\n",
    "        '07', 16), int('12', 16), int('80', 16), int('e2', 16), int('eb', 16), int('27', 16), int('b2', 16), int('75', 16)],\n",
    "    [int('09', 16), int('83', 16), int('2c', 16), int('1a', 16), int('1b', 16), int('6e', 16), int('5a', 16), int('a0', 16), int(\n",
    "        '52', 16), int('3b', 16), int('d6', 16), int('b3', 16), int('29', 16), int('e3', 16), int('2f', 16), int('84', 16)],\n",
    "    [int('53', 16), int('d1', 16), int('00', 16), int('ed', 16), int('20', 16), int('fc', 16), int('b1', 16), int('5b', 16), int(\n",
    "        '6a', 16), int('cb', 16), int('be', 16), int('39', 16), int('4a', 16), int('4c', 16), int('58', 16), int('cf', 16)],\n",
    "    [int('d0', 16), int('ef', 16), int('aa', 16), int('fb', 16), int('43', 16), int('4d', 16), int('33', 16), int('85', 16), int(\n",
    "        '45', 16), int('f9', 16), int('02', 16), int('7f', 16), int('50', 16), int('3c', 16), int('9f', 16), int('a8', 16)],\n",
    "    [int('51', 16), int('a3', 16), int('40', 16), int('8f', 16), int('92', 16), int('9d', 16), int('38', 16), int('f5', 16), int(\n",
    "        'bc', 16), int('b6', 16), int('da', 16), int('21', 16), int('10', 16), int('ff', 16), int('f3', 16), int('d2', 16)],\n",
    "    [int('cd', 16), int('0c', 16), int('13', 16), int('ec', 16), int('5f', 16), int('97', 16), int('44', 16), int('17', 16), int(\n",
    "        'c4', 16), int('a7', 16), int('7e', 16), int('3d', 16), int('64', 16), int('5d', 16), int('19', 16), int('73', 16)],\n",
    "    [int('60', 16), int('81', 16), int('4f', 16), int('dc', 16), int('22', 16), int('2a', 16), int('90', 16), int('88', 16), int(\n",
    "        '46', 16), int('ee', 16), int('b8', 16), int('14', 16), int('de', 16), int('5e', 16), int('0b', 16), int('db', 16)],\n",
    "    [int('e0', 16), int('32', 16), int('3a', 16), int('0a', 16), int('49', 16), int('06', 16), int('24', 16), int('5c', 16), int(\n",
    "        'c2', 16), int('d3', 16), int('ac', 16), int('62', 16), int('91', 16), int('95', 16), int('e4', 16), int('79', 16)],\n",
    "    [int('e7', 16), int('c8', 16), int('37', 16), int('6d', 16), int('8d', 16), int('d5', 16), int('4e', 16), int('a9', 16), int(\n",
    "        '6c', 16), int('56', 16), int('f4', 16), int('ea', 16), int('65', 16), int('7a', 16), int('ae', 16), int('08', 16)],\n",
    "    [int('ba', 16), int('78', 16), int('25', 16), int('2e', 16), int('1c', 16), int('a6', 16), int('b4', 16), int('c6', 16), int(\n",
    "        'e8', 16), int('dd', 16), int('74', 16), int('1f', 16), int('4b', 16), int('bd', 16), int('8b', 16), int('8a', 16)],\n",
    "    [int('70', 16), int('3e', 16), int('b5', 16), int('66', 16), int('48', 16), int('03', 16), int('f6', 16), int('0e', 16), int(\n",
    "        '61', 16), int('35', 16), int('57', 16), int('b9', 16), int('86', 16), int('c1', 16), int('1d', 16), int('9e', 16)],\n",
    "    [int('e1', 16), int('f8', 16), int('98', 16), int('11', 16), int('69', 16), int('d9', 16), int('8e', 16), int('94', 16), int(\n",
    "        '9b', 16), int('1e', 16), int('87', 16), int('e9', 16), int('ce', 16), int('55', 16), int('28', 16), int('df', 16)],\n",
    "    [int('8c', 16), int('a1', 16), int('89', 16), int('0d', 16), int('bf', 16), int('e6', 16), int('42', 16), int('68', 16), int(\n",
    "        '41', 16), int('99', 16), int('2d', 16), int('0f', 16), int('b0', 16), int('54', 16), int('bb', 16), int('16', 16)]\n",
    "]"
   ]
  },
  {
   "cell_type": "markdown",
   "metadata": {},
   "source": [
    "note: bapaknya kebalik di onenote, yg bener ini"
   ]
  },
  {
   "cell_type": "markdown",
   "metadata": {},
   "source": [
    "![Alt text](../../../../../../../C:/Users/chris/Kuliah/semester6/KK/uts/key_expansion_rule.png)"
   ]
  },
  {
   "cell_type": "markdown",
   "metadata": {},
   "source": [
    "bagian ini mabok buatnya tapi keknya udah bener"
   ]
  },
  {
   "cell_type": "code",
   "execution_count": 250,
   "metadata": {},
   "outputs": [
    {
     "name": "stdout",
     "output_type": "stream",
     "text": [
      "['AD20177D', '470678DB', '31DA48D0', '47AB5B7D', '6C762D20', '52C4F80D', 'E4133523', '8CE29268', 'A5E4F61', '3FC6CD99']\n",
      "{'w00': '2475A2B3', 'w01': '34755688', 'w02': '31E21200', 'w03': '13AA5487', 'w04': '8955B5CE', 'w05': 'BD20E346', 'w06': '8CC2F146', 'w07': '9F68A5C1', 'w08': 'CE53CD15', 'w09': '73732E53', 'w10': 'FFB1DF15', 'w11': '60D97AD4', 'w12': 'FF8985C5', 'w13': '8CFAAB96', 'w14': '734B7483', 'w15': '13920E57', 'w16': 'B822DEB8', 'w17': '34D8752E', 'w18': '479301AD', 'w19': '54010FFA', 'w20': 'D454F398', 'w21': 'E08C86B6', 'w22': 'A71F871B', 'w23': 'F31E88E1', 'w24': '86900B95', 'w25': '661C8D23', 'w26': 'C1030A38', 'w27': '321D82D9', 'w28': '62833EB6', 'w29': '049FB395', 'w30': 'C59CB9AD', 'w31': 'F7813B74', 'w32': 'EE61ACDE', 'w33': 'EAFE1F4B', 'w34': '2F62A6E6', 'w35': 'D8E39D92', 'w36': 'E43FE3BF', 'w37': '0EC1FCF4', 'w38': '21A35A12', 'w39': 'F940C780', 'w40': 'DBF92E26', 'w41': 'D538D2D2', 'w42': 'F49B88C0', 'w43': '0DDB4F40'}\n"
     ]
    }
   ],
   "source": [
    "cipherkey = \"2475A2B33475568831E2120013AA5487\"\n",
    "first_w_values = [cipherkey[i:i+8] for i in range(0,len(cipherkey),8)]\n",
    "\n",
    "def rot_word_func(hex): return hex[2:]+hex[:2]\n",
    "def sub_word_func(hex_rot_word):\n",
    "    output = \"\"\n",
    "    for i in range(0,len(hex_rot_word),2):\n",
    "        x = int(hex_rot_word[i],16)\n",
    "        y = int(hex_rot_word[i+1],16)\n",
    "        the_hex = hex(aes_sbox[x][y])[2:].zfill(2)\n",
    "        output+=the_hex\n",
    "    return output.upper()\n",
    "\n",
    "r_con = [\n",
    "    \"01000000\", # round 1\n",
    "    \"02000000\", # round 2\n",
    "    \"04000000\", # round 3A\n",
    "    \"08000000\", # round 4\n",
    "    \"10000000\", # round 5\n",
    "    \"20000000\", # round 6\n",
    "    \"40000000\", # round 7\n",
    "    \"80000000\", # round 8\n",
    "    \"1B000000\", # round 9\n",
    "    \"36000000\" # round 10\n",
    "]\n",
    "\n",
    "first_w_strings = [\"w00\",\"w01\",\"w02\",\"w03\"]\n",
    "w_dict = {w:val for w,val in zip(first_w_strings,first_w_values)}\n",
    "\n",
    "def generate_temp_word(w_before_value_in_hex,i):\n",
    "    rot_word = rot_word_func(w_before_value_in_hex)\n",
    "    sub_word = sub_word_func(rot_word)\n",
    "    assert len(sub_word) == 8\n",
    "    temp_word = GF_addition(convert_hexa_to_binary(sub_word),convert_hexa_to_binary(r_con[i//4]))\n",
    "    temp_word = convert_binary_to_hexa(temp_word)\n",
    "    return temp_word\n",
    "\n",
    "values_of_t = []\n",
    "for w in range(4,44):\n",
    "    the_str_number = str(w).zfill(2)\n",
    "    the_str = f\"w{the_str_number}\"\n",
    "    wi_mines_4_value = w_dict['w'+str(int(w-4)).zfill(2)] \n",
    "    wi_mines_1_value = w_dict['w'+str(int(w-1)).zfill(2)] \n",
    "\n",
    "    # wi-4 + temp_word\n",
    "    if w % 4 == 0:\n",
    "        temp_word = generate_temp_word(wi_mines_1_value,w-1)\n",
    "        values_of_t.append(temp_word)\n",
    "        the_val = convert_binary_to_hexa(GF_addition(convert_hexa_to_binary(wi_mines_4_value),convert_hexa_to_binary(temp_word)))\n",
    "\n",
    "    # wi-4 xor wi-1\n",
    "    else: the_val = convert_binary_to_hexa(GF_addition(convert_hexa_to_binary(wi_mines_4_value),convert_hexa_to_binary(wi_mines_1_value)))\n",
    "\n",
    "    the_val = the_val.zfill(8)\n",
    "    w_dict[the_str] = the_val\n",
    "\n",
    "print(values_of_t)\n",
    "print(w_dict)"
   ]
  },
  {
   "cell_type": "markdown",
   "metadata": {},
   "source": [
    "# Materi Pak Sanga"
   ]
  },
  {
   "cell_type": "markdown",
   "metadata": {},
   "source": [
    "## Shift Cipher / Caesar Cipher (Shift = 3)"
   ]
  },
  {
   "cell_type": "code",
   "execution_count": 63,
   "metadata": {},
   "outputs": [
    {
     "name": "stdout",
     "output_type": "stream",
     "text": [
      "Shift 1: A -> B = BCDEFGH\n",
      "Shift 2: A -> C = CDEFGHI\n",
      "Shift 3: A -> D = DEFGHIJ -> Caesar Cipher\n",
      "Shift 4: A -> E = EFGHIJK\n",
      "Shift 5: A -> F = FGHIJKL\n",
      "Shift 6: A -> G = GHIJKLM\n",
      "Shift 7: A -> H = HIJKLMN\n",
      "Shift 8: A -> I = IJKLMNO\n",
      "Shift 9: A -> J = JKLMNOP\n",
      "Shift 10: A -> K = KLMNOPQ\n",
      "Shift 11: A -> L = LMNOPQR\n",
      "Shift 12: A -> M = MNOPQRS\n",
      "Shift 13: A -> N = NOPQRST\n",
      "Shift 14: A -> O = OPQRSTU\n",
      "Shift 15: A -> P = PQRSTUV\n",
      "Shift 16: A -> Q = QRSTUVW\n",
      "Shift 17: A -> R = RSTUVWX\n",
      "Shift 18: A -> S = STUVWXY\n",
      "Shift 19: A -> T = TUVWXYZ\n",
      "Shift 20: A -> U = UVWXYZA\n",
      "Shift 21: A -> V = VWXYZAB\n",
      "Shift 22: A -> W = WXYZABC\n",
      "Shift 23: A -> X = XYZABCD\n",
      "Shift 24: A -> Y = YZABCDE\n",
      "Shift 25: A -> Z = ZABCDEF\n"
     ]
    }
   ],
   "source": [
    "from string import ascii_uppercase\n",
    "\n",
    "random_string = \"abcdefg\" \n",
    "random_string = random_string.upper()\n",
    "random_string = random_string.replace(\" \",\"\")\n",
    "letters = ascii_uppercase\n",
    "\n",
    "def encrypt(string:str):\n",
    "    hasil_list = []\n",
    "    for shift in range(1,26):\n",
    "        hasil = \"\"\n",
    "        for letter in string:\n",
    "            letter_index = letters.index(letter)\n",
    "            after_shift_index = (letter_index + shift) % 26\n",
    "            after_shift_letter = letters[after_shift_index]\n",
    "            hasil += after_shift_letter\n",
    "        hasil_list.append(hasil)\n",
    "    return hasil_list\n",
    "\n",
    "def decrypt(string:str,shift:int):\n",
    "    hasil = \"\"\n",
    "    for letter in string:\n",
    "        letter_index = letters.index(letter)\n",
    "        after_shift_index = (letter_index - shift) % 26\n",
    "        after_shift_letter = letters[after_shift_index]\n",
    "        hasil += after_shift_letter\n",
    "    return hasil\n",
    "\n",
    "enkripsi = encrypt(random_string)\n",
    "for i,j in enumerate(enkripsi):\n",
    "    print_output = f\"Shift {i+1}: A -> {letters[i+1]} = {j}\"\n",
    "    if i == 2: print_output += \" -> Caesar Cipher\"\n",
    "    print(print_output)"
   ]
  },
  {
   "cell_type": "markdown",
   "metadata": {},
   "source": [
    "# Add - Ons"
   ]
  },
  {
   "cell_type": "code",
   "execution_count": null,
   "metadata": {},
   "outputs": [],
   "source": []
  }
 ],
 "metadata": {
  "kernelspec": {
   "display_name": "Python 3.10.8 64-bit",
   "language": "python",
   "name": "python3"
  },
  "language_info": {
   "codemirror_mode": {
    "name": "ipython",
    "version": 3
   },
   "file_extension": ".py",
   "mimetype": "text/x-python",
   "name": "python",
   "nbconvert_exporter": "python",
   "pygments_lexer": "ipython3",
   "version": "3.10.8"
  },
  "orig_nbformat": 4,
  "vscode": {
   "interpreter": {
    "hash": "edf259275ad4a72d4dd5b452264ad5fb2b635233dff2a31edc6ebc740e55e21b"
   }
  }
 },
 "nbformat": 4,
 "nbformat_minor": 2
}
